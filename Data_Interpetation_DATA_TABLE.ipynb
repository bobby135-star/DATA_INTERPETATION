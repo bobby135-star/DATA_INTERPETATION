{
  "metadata": {
    "kernelspec": {
      "name": "python",
      "display_name": "Python (Pyodide)",
      "language": "python"
    },
    "language_info": {
      "codemirror_mode": {
        "name": "python",
        "version": 3
      },
      "file_extension": ".py",
      "mimetype": "text/x-python",
      "name": "python",
      "nbconvert_exporter": "python",
      "pygments_lexer": "ipython3",
      "version": "3.8"
    },
    "toc-autonumbering": false,
    "toc-showcode": true,
    "toc-showmarkdowntxt": true,
    "toc-showtags": false
  },
  "nbformat_minor": 5,
  "nbformat": 4,
  "cells": [
    {
      "cell_type": "code",
      "source": "# Importing the necessary libraries -->\nimport numpy as np\nimport pandas as pd\nimport piplite\nawait piplite.install('jinja2')\nawait piplite.install('watermark')",
      "metadata": {
        "tags": [],
        "trusted": true
      },
      "execution_count": 2,
      "outputs": [],
      "id": "08449aa2-8830-4c16-867b-01d2e9941861"
    },
    {
      "cell_type": "markdown",
      "source": "## 01.Study the table carefully and answer the questions given below",
      "metadata": {},
      "id": "dc1ddc56-93c6-4b0f-9a81-5ef74e9b16c8"
    },
    {
      "cell_type": "code",
      "source": "# Making the DataFrame\nd  = {'CAR/YEAR':['A','B','C','D','E'],\n      '2013':[35,39,52,50,36],\n      '2014':[40,45,25,42,46],\n      '2015':[48,54,32,45,42],\n      '2016':[50,60,54,46,48],\n      '2017':[36,72,45,47,55]}\n\n# DataFrame without any styling\n# print(\"01.Study the table carefully and answer the questions given below:\\n\")\ndf=pd.DataFrame(data=d)\nstyles=[dict(selector=\"Caption\",props=[(\"background-color\", \"cyan\"),(\"font-size\",\"120%\"),(\"text-align\", \"middle\"), (\"color\", 'blue'),(\"font-weight\",\"bold\")])]\ndf.style.set_caption('1.The table shows the production of different type of cars (in thousand)').set_table_styles(styles)",
      "metadata": {
        "trusted": true
      },
      "execution_count": 5,
      "outputs": [
        {
          "execution_count": 5,
          "output_type": "execute_result",
          "data": {
            "text/plain": "<pandas.io.formats.style.Styler at 0x23c2bc8>",
            "text/html": "<style type=\"text/css\">\n#T_987da Caption {\n  background-color: cyan;\n  font-size: 120%;\n  text-align: middle;\n  color: blue;\n  font-weight: bold;\n}\n</style>\n<table id=\"T_987da\">\n  <caption>1.The table shows the production of different type of cars (in thousand)</caption>\n  <thead>\n    <tr>\n      <th class=\"blank level0\" >&nbsp;</th>\n      <th id=\"T_987da_level0_col0\" class=\"col_heading level0 col0\" >CAR/YEAR</th>\n      <th id=\"T_987da_level0_col1\" class=\"col_heading level0 col1\" >2013</th>\n      <th id=\"T_987da_level0_col2\" class=\"col_heading level0 col2\" >2014</th>\n      <th id=\"T_987da_level0_col3\" class=\"col_heading level0 col3\" >2015</th>\n      <th id=\"T_987da_level0_col4\" class=\"col_heading level0 col4\" >2016</th>\n      <th id=\"T_987da_level0_col5\" class=\"col_heading level0 col5\" >2017</th>\n    </tr>\n  </thead>\n  <tbody>\n    <tr>\n      <th id=\"T_987da_level0_row0\" class=\"row_heading level0 row0\" >0</th>\n      <td id=\"T_987da_row0_col0\" class=\"data row0 col0\" >A</td>\n      <td id=\"T_987da_row0_col1\" class=\"data row0 col1\" >35</td>\n      <td id=\"T_987da_row0_col2\" class=\"data row0 col2\" >40</td>\n      <td id=\"T_987da_row0_col3\" class=\"data row0 col3\" >48</td>\n      <td id=\"T_987da_row0_col4\" class=\"data row0 col4\" >50</td>\n      <td id=\"T_987da_row0_col5\" class=\"data row0 col5\" >36</td>\n    </tr>\n    <tr>\n      <th id=\"T_987da_level0_row1\" class=\"row_heading level0 row1\" >1</th>\n      <td id=\"T_987da_row1_col0\" class=\"data row1 col0\" >B</td>\n      <td id=\"T_987da_row1_col1\" class=\"data row1 col1\" >39</td>\n      <td id=\"T_987da_row1_col2\" class=\"data row1 col2\" >45</td>\n      <td id=\"T_987da_row1_col3\" class=\"data row1 col3\" >54</td>\n      <td id=\"T_987da_row1_col4\" class=\"data row1 col4\" >60</td>\n      <td id=\"T_987da_row1_col5\" class=\"data row1 col5\" >72</td>\n    </tr>\n    <tr>\n      <th id=\"T_987da_level0_row2\" class=\"row_heading level0 row2\" >2</th>\n      <td id=\"T_987da_row2_col0\" class=\"data row2 col0\" >C</td>\n      <td id=\"T_987da_row2_col1\" class=\"data row2 col1\" >52</td>\n      <td id=\"T_987da_row2_col2\" class=\"data row2 col2\" >25</td>\n      <td id=\"T_987da_row2_col3\" class=\"data row2 col3\" >32</td>\n      <td id=\"T_987da_row2_col4\" class=\"data row2 col4\" >54</td>\n      <td id=\"T_987da_row2_col5\" class=\"data row2 col5\" >45</td>\n    </tr>\n    <tr>\n      <th id=\"T_987da_level0_row3\" class=\"row_heading level0 row3\" >3</th>\n      <td id=\"T_987da_row3_col0\" class=\"data row3 col0\" >D</td>\n      <td id=\"T_987da_row3_col1\" class=\"data row3 col1\" >50</td>\n      <td id=\"T_987da_row3_col2\" class=\"data row3 col2\" >42</td>\n      <td id=\"T_987da_row3_col3\" class=\"data row3 col3\" >45</td>\n      <td id=\"T_987da_row3_col4\" class=\"data row3 col4\" >46</td>\n      <td id=\"T_987da_row3_col5\" class=\"data row3 col5\" >47</td>\n    </tr>\n    <tr>\n      <th id=\"T_987da_level0_row4\" class=\"row_heading level0 row4\" >4</th>\n      <td id=\"T_987da_row4_col0\" class=\"data row4 col0\" >E</td>\n      <td id=\"T_987da_row4_col1\" class=\"data row4 col1\" >36</td>\n      <td id=\"T_987da_row4_col2\" class=\"data row4 col2\" >46</td>\n      <td id=\"T_987da_row4_col3\" class=\"data row4 col3\" >42</td>\n      <td id=\"T_987da_row4_col4\" class=\"data row4 col4\" >48</td>\n      <td id=\"T_987da_row4_col5\" class=\"data row4 col5\" >55</td>\n    </tr>\n  </tbody>\n</table>\n"
          },
          "metadata": {}
        }
      ],
      "id": "17fe2c31-c1a5-478f-be2c-9ee646bcfd0d"
    },
    {
      "cell_type": "markdown",
      "source": "## Ex-01 The total production of car of type B in 2013,2014,2015 & 2017 taken together is what percent less than the total production of all types of cars in 2017 ?\na) 18.2% b) 18.4% c) 15.8 % d) 17.6%",
      "metadata": {},
      "id": "69e9066d-c083-4e19-921f-2b90d848ed7a"
    },
    {
      "cell_type": "code",
      "source": "print(\"Total production of Car B in 2013,2014,2015,2017 \\n\")\n# See top 5 rows\ndf.head()",
      "metadata": {
        "trusted": true
      },
      "execution_count": 3,
      "outputs": [
        {
          "name": "stdout",
          "text": "Total production of Car B in 2013,2014,2015,2017 \n\n",
          "output_type": "stream"
        },
        {
          "execution_count": 3,
          "output_type": "execute_result",
          "data": {
            "text/plain": "  CAR/YEAR  2013  2014  2015  2016  2017\n0        A    35    40    48    50    36\n1        B    39    45    54    60    72\n2        C    52    25    32    54    45\n3        D    50    42    45    46    47\n4        E    36    46    42    48    55",
            "text/html": "<div>\n<style scoped>\n    .dataframe tbody tr th:only-of-type {\n        vertical-align: middle;\n    }\n\n    .dataframe tbody tr th {\n        vertical-align: top;\n    }\n\n    .dataframe thead th {\n        text-align: right;\n    }\n</style>\n<table border=\"1\" class=\"dataframe\">\n  <thead>\n    <tr style=\"text-align: right;\">\n      <th></th>\n      <th>CAR/YEAR</th>\n      <th>2013</th>\n      <th>2014</th>\n      <th>2015</th>\n      <th>2016</th>\n      <th>2017</th>\n    </tr>\n  </thead>\n  <tbody>\n    <tr>\n      <th>0</th>\n      <td>A</td>\n      <td>35</td>\n      <td>40</td>\n      <td>48</td>\n      <td>50</td>\n      <td>36</td>\n    </tr>\n    <tr>\n      <th>1</th>\n      <td>B</td>\n      <td>39</td>\n      <td>45</td>\n      <td>54</td>\n      <td>60</td>\n      <td>72</td>\n    </tr>\n    <tr>\n      <th>2</th>\n      <td>C</td>\n      <td>52</td>\n      <td>25</td>\n      <td>32</td>\n      <td>54</td>\n      <td>45</td>\n    </tr>\n    <tr>\n      <th>3</th>\n      <td>D</td>\n      <td>50</td>\n      <td>42</td>\n      <td>45</td>\n      <td>46</td>\n      <td>47</td>\n    </tr>\n    <tr>\n      <th>4</th>\n      <td>E</td>\n      <td>36</td>\n      <td>46</td>\n      <td>42</td>\n      <td>48</td>\n      <td>55</td>\n    </tr>\n  </tbody>\n</table>\n</div>"
          },
          "metadata": {}
        }
      ],
      "id": "d6f1d65c-e2ab-4dcb-96da-cea230d9cf90"
    },
    {
      "cell_type": "code",
      "source": "# Sum rows for col1,2,3 and col5\ndflist=['2013','2014','2015','2017']\ndf['Results']=df[dflist].sum(axis=1)\ndf",
      "metadata": {
        "trusted": true
      },
      "execution_count": 4,
      "outputs": [
        {
          "execution_count": 4,
          "output_type": "execute_result",
          "data": {
            "text/plain": "  CAR/YEAR  2013  2014  2015  2016  2017  Results\n0        A    35    40    48    50    36      159\n1        B    39    45    54    60    72      210\n2        C    52    25    32    54    45      154\n3        D    50    42    45    46    47      184\n4        E    36    46    42    48    55      179",
            "text/html": "<div>\n<style scoped>\n    .dataframe tbody tr th:only-of-type {\n        vertical-align: middle;\n    }\n\n    .dataframe tbody tr th {\n        vertical-align: top;\n    }\n\n    .dataframe thead th {\n        text-align: right;\n    }\n</style>\n<table border=\"1\" class=\"dataframe\">\n  <thead>\n    <tr style=\"text-align: right;\">\n      <th></th>\n      <th>CAR/YEAR</th>\n      <th>2013</th>\n      <th>2014</th>\n      <th>2015</th>\n      <th>2016</th>\n      <th>2017</th>\n      <th>Results</th>\n    </tr>\n  </thead>\n  <tbody>\n    <tr>\n      <th>0</th>\n      <td>A</td>\n      <td>35</td>\n      <td>40</td>\n      <td>48</td>\n      <td>50</td>\n      <td>36</td>\n      <td>159</td>\n    </tr>\n    <tr>\n      <th>1</th>\n      <td>B</td>\n      <td>39</td>\n      <td>45</td>\n      <td>54</td>\n      <td>60</td>\n      <td>72</td>\n      <td>210</td>\n    </tr>\n    <tr>\n      <th>2</th>\n      <td>C</td>\n      <td>52</td>\n      <td>25</td>\n      <td>32</td>\n      <td>54</td>\n      <td>45</td>\n      <td>154</td>\n    </tr>\n    <tr>\n      <th>3</th>\n      <td>D</td>\n      <td>50</td>\n      <td>42</td>\n      <td>45</td>\n      <td>46</td>\n      <td>47</td>\n      <td>184</td>\n    </tr>\n    <tr>\n      <th>4</th>\n      <td>E</td>\n      <td>36</td>\n      <td>46</td>\n      <td>42</td>\n      <td>48</td>\n      <td>55</td>\n      <td>179</td>\n    </tr>\n  </tbody>\n</table>\n</div>"
          },
          "metadata": {}
        }
      ],
      "id": "34d48a64-70ea-4c0d-81a6-caf59bf9b92b"
    },
    {
      "cell_type": "code",
      "source": "df.sum(axis=0)",
      "metadata": {
        "trusted": true
      },
      "execution_count": 5,
      "outputs": [
        {
          "execution_count": 5,
          "output_type": "execute_result",
          "data": {
            "text/plain": "CAR/YEAR    ABCDE\n2013          212\n2014          198\n2015          221\n2016          258\n2017          255\nResults       886\ndtype: object"
          },
          "metadata": {}
        }
      ],
      "id": "5bfc704f-4a10-48b8-86d3-318354aeeae8"
    },
    {
      "cell_type": "code",
      "source": "# Group by Mean of a Single Column\ndf.groupby('CAR/YEAR')['2013'].mean()",
      "metadata": {
        "trusted": true
      },
      "execution_count": 6,
      "outputs": [
        {
          "execution_count": 6,
          "output_type": "execute_result",
          "data": {
            "text/plain": "CAR/YEAR\nA    35.0\nB    39.0\nC    52.0\nD    50.0\nE    36.0\nName: 2013, dtype: float64"
          },
          "metadata": {}
        }
      ],
      "id": "4d55ef38-637b-4c25-94ee-9959ef7ad6ac"
    },
    {
      "cell_type": "code",
      "source": "# Average marks for each Car\ndf.groupby('CAR/YEAR')['2013'].agg('mean')",
      "metadata": {
        "trusted": true
      },
      "execution_count": 7,
      "outputs": [
        {
          "execution_count": 7,
          "output_type": "execute_result",
          "data": {
            "text/plain": "CAR/YEAR\nA    35.0\nB    39.0\nC    52.0\nD    50.0\nE    36.0\nName: 2013, dtype: float64"
          },
          "metadata": {}
        }
      ],
      "id": "991dd818-6110-4f74-9053-5f5fcf1a6d9b"
    },
    {
      "cell_type": "code",
      "source": "# mean value and project submissions for each car\ndf.groupby('CAR/YEAR')[['2013', '2014']].mean()",
      "metadata": {
        "trusted": true
      },
      "execution_count": 8,
      "outputs": [
        {
          "execution_count": 8,
          "output_type": "execute_result",
          "data": {
            "text/plain": "          2013  2014\nCAR/YEAR            \nA         35.0  40.0\nB         39.0  45.0\nC         52.0  25.0\nD         50.0  42.0\nE         36.0  46.0",
            "text/html": "<div>\n<style scoped>\n    .dataframe tbody tr th:only-of-type {\n        vertical-align: middle;\n    }\n\n    .dataframe tbody tr th {\n        vertical-align: top;\n    }\n\n    .dataframe thead th {\n        text-align: right;\n    }\n</style>\n<table border=\"1\" class=\"dataframe\">\n  <thead>\n    <tr style=\"text-align: right;\">\n      <th></th>\n      <th>2013</th>\n      <th>2014</th>\n    </tr>\n    <tr>\n      <th>CAR/YEAR</th>\n      <th></th>\n      <th></th>\n    </tr>\n  </thead>\n  <tbody>\n    <tr>\n      <th>A</th>\n      <td>35.0</td>\n      <td>40.0</td>\n    </tr>\n    <tr>\n      <th>B</th>\n      <td>39.0</td>\n      <td>45.0</td>\n    </tr>\n    <tr>\n      <th>C</th>\n      <td>52.0</td>\n      <td>25.0</td>\n    </tr>\n    <tr>\n      <th>D</th>\n      <td>50.0</td>\n      <td>42.0</td>\n    </tr>\n    <tr>\n      <th>E</th>\n      <td>36.0</td>\n      <td>46.0</td>\n    </tr>\n  </tbody>\n</table>\n</div>"
          },
          "metadata": {}
        }
      ],
      "id": "c23a6af3-3c67-4e7f-9e91-278c3a67945d"
    },
    {
      "cell_type": "code",
      "source": "# mean value and project submissions for each car\ndf.groupby('CAR/YEAR')[['2013', '2014']].agg('mean')",
      "metadata": {
        "trusted": true
      },
      "execution_count": 9,
      "outputs": [
        {
          "execution_count": 9,
          "output_type": "execute_result",
          "data": {
            "text/plain": "          2013  2014\nCAR/YEAR            \nA         35.0  40.0\nB         39.0  45.0\nC         52.0  25.0\nD         50.0  42.0\nE         36.0  46.0",
            "text/html": "<div>\n<style scoped>\n    .dataframe tbody tr th:only-of-type {\n        vertical-align: middle;\n    }\n\n    .dataframe tbody tr th {\n        vertical-align: top;\n    }\n\n    .dataframe thead th {\n        text-align: right;\n    }\n</style>\n<table border=\"1\" class=\"dataframe\">\n  <thead>\n    <tr style=\"text-align: right;\">\n      <th></th>\n      <th>2013</th>\n      <th>2014</th>\n    </tr>\n    <tr>\n      <th>CAR/YEAR</th>\n      <th></th>\n      <th></th>\n    </tr>\n  </thead>\n  <tbody>\n    <tr>\n      <th>A</th>\n      <td>35.0</td>\n      <td>40.0</td>\n    </tr>\n    <tr>\n      <th>B</th>\n      <td>39.0</td>\n      <td>45.0</td>\n    </tr>\n    <tr>\n      <th>C</th>\n      <td>52.0</td>\n      <td>25.0</td>\n    </tr>\n    <tr>\n      <th>D</th>\n      <td>50.0</td>\n      <td>42.0</td>\n    </tr>\n    <tr>\n      <th>E</th>\n      <td>36.0</td>\n      <td>46.0</td>\n    </tr>\n  </tbody>\n</table>\n</div>"
          },
          "metadata": {}
        }
      ],
      "id": "ad925f41-4141-4137-a3cc-bd005d2026b2"
    },
    {
      "cell_type": "code",
      "source": "df.columns",
      "metadata": {
        "trusted": true
      },
      "execution_count": 10,
      "outputs": [
        {
          "execution_count": 10,
          "output_type": "execute_result",
          "data": {
            "text/plain": "Index(['CAR/YEAR', '2013', '2014', '2015', '2016', '2017', 'Results'], dtype='object')"
          },
          "metadata": {}
        }
      ],
      "id": "90e97d35-b183-4a4a-bb6c-f73f3038c723"
    },
    {
      "cell_type": "code",
      "source": "df.iloc[1]",
      "metadata": {
        "trusted": true
      },
      "execution_count": 11,
      "outputs": [
        {
          "execution_count": 11,
          "output_type": "execute_result",
          "data": {
            "text/plain": "CAR/YEAR      B\n2013         39\n2014         45\n2015         54\n2016         60\n2017         72\nResults     210\nName: 1, dtype: object"
          },
          "metadata": {}
        }
      ],
      "id": "f58f52a2-b17e-4fb2-aed7-93226560046e"
    },
    {
      "cell_type": "code",
      "source": "df.iloc[[0,1]]",
      "metadata": {
        "trusted": true
      },
      "execution_count": 12,
      "outputs": [
        {
          "execution_count": 12,
          "output_type": "execute_result",
          "data": {
            "text/plain": "  CAR/YEAR  2013  2014  2015  2016  2017  Results\n0        A    35    40    48    50    36      159\n1        B    39    45    54    60    72      210",
            "text/html": "<div>\n<style scoped>\n    .dataframe tbody tr th:only-of-type {\n        vertical-align: middle;\n    }\n\n    .dataframe tbody tr th {\n        vertical-align: top;\n    }\n\n    .dataframe thead th {\n        text-align: right;\n    }\n</style>\n<table border=\"1\" class=\"dataframe\">\n  <thead>\n    <tr style=\"text-align: right;\">\n      <th></th>\n      <th>CAR/YEAR</th>\n      <th>2013</th>\n      <th>2014</th>\n      <th>2015</th>\n      <th>2016</th>\n      <th>2017</th>\n      <th>Results</th>\n    </tr>\n  </thead>\n  <tbody>\n    <tr>\n      <th>0</th>\n      <td>A</td>\n      <td>35</td>\n      <td>40</td>\n      <td>48</td>\n      <td>50</td>\n      <td>36</td>\n      <td>159</td>\n    </tr>\n    <tr>\n      <th>1</th>\n      <td>B</td>\n      <td>39</td>\n      <td>45</td>\n      <td>54</td>\n      <td>60</td>\n      <td>72</td>\n      <td>210</td>\n    </tr>\n  </tbody>\n</table>\n</div>"
          },
          "metadata": {}
        }
      ],
      "id": "66486584-fea4-4124-87f3-ff94d3613efb"
    },
    {
      "cell_type": "code",
      "source": "df.iloc[[0,1],2]",
      "metadata": {
        "trusted": true
      },
      "execution_count": 13,
      "outputs": [
        {
          "execution_count": 13,
          "output_type": "execute_result",
          "data": {
            "text/plain": "0    40\n1    45\nName: 2014, dtype: int64"
          },
          "metadata": {}
        }
      ],
      "id": "c5791dd9-8fd3-4d0e-90af-4ff4dc8ee431"
    },
    {
      "cell_type": "code",
      "source": "df",
      "metadata": {
        "trusted": true
      },
      "execution_count": 14,
      "outputs": [
        {
          "execution_count": 14,
          "output_type": "execute_result",
          "data": {
            "text/plain": "  CAR/YEAR  2013  2014  2015  2016  2017  Results\n0        A    35    40    48    50    36      159\n1        B    39    45    54    60    72      210\n2        C    52    25    32    54    45      154\n3        D    50    42    45    46    47      184\n4        E    36    46    42    48    55      179",
            "text/html": "<div>\n<style scoped>\n    .dataframe tbody tr th:only-of-type {\n        vertical-align: middle;\n    }\n\n    .dataframe tbody tr th {\n        vertical-align: top;\n    }\n\n    .dataframe thead th {\n        text-align: right;\n    }\n</style>\n<table border=\"1\" class=\"dataframe\">\n  <thead>\n    <tr style=\"text-align: right;\">\n      <th></th>\n      <th>CAR/YEAR</th>\n      <th>2013</th>\n      <th>2014</th>\n      <th>2015</th>\n      <th>2016</th>\n      <th>2017</th>\n      <th>Results</th>\n    </tr>\n  </thead>\n  <tbody>\n    <tr>\n      <th>0</th>\n      <td>A</td>\n      <td>35</td>\n      <td>40</td>\n      <td>48</td>\n      <td>50</td>\n      <td>36</td>\n      <td>159</td>\n    </tr>\n    <tr>\n      <th>1</th>\n      <td>B</td>\n      <td>39</td>\n      <td>45</td>\n      <td>54</td>\n      <td>60</td>\n      <td>72</td>\n      <td>210</td>\n    </tr>\n    <tr>\n      <th>2</th>\n      <td>C</td>\n      <td>52</td>\n      <td>25</td>\n      <td>32</td>\n      <td>54</td>\n      <td>45</td>\n      <td>154</td>\n    </tr>\n    <tr>\n      <th>3</th>\n      <td>D</td>\n      <td>50</td>\n      <td>42</td>\n      <td>45</td>\n      <td>46</td>\n      <td>47</td>\n      <td>184</td>\n    </tr>\n    <tr>\n      <th>4</th>\n      <td>E</td>\n      <td>36</td>\n      <td>46</td>\n      <td>42</td>\n      <td>48</td>\n      <td>55</td>\n      <td>179</td>\n    </tr>\n  </tbody>\n</table>\n</div>"
          },
          "metadata": {}
        }
      ],
      "id": "4b373cfb-8c50-4d44-bd32-c86ccfe40860"
    },
    {
      "cell_type": "code",
      "source": "df.loc[1]",
      "metadata": {
        "trusted": true
      },
      "execution_count": 15,
      "outputs": [
        {
          "execution_count": 15,
          "output_type": "execute_result",
          "data": {
            "text/plain": "CAR/YEAR      B\n2013         39\n2014         45\n2015         54\n2016         60\n2017         72\nResults     210\nName: 1, dtype: object"
          },
          "metadata": {}
        }
      ],
      "id": "2adb0975-7a3e-4561-ae91-b68ab4c603fd"
    },
    {
      "cell_type": "code",
      "source": "df.loc[[0,1]]",
      "metadata": {
        "trusted": true
      },
      "execution_count": 16,
      "outputs": [
        {
          "execution_count": 16,
          "output_type": "execute_result",
          "data": {
            "text/plain": "  CAR/YEAR  2013  2014  2015  2016  2017  Results\n0        A    35    40    48    50    36      159\n1        B    39    45    54    60    72      210",
            "text/html": "<div>\n<style scoped>\n    .dataframe tbody tr th:only-of-type {\n        vertical-align: middle;\n    }\n\n    .dataframe tbody tr th {\n        vertical-align: top;\n    }\n\n    .dataframe thead th {\n        text-align: right;\n    }\n</style>\n<table border=\"1\" class=\"dataframe\">\n  <thead>\n    <tr style=\"text-align: right;\">\n      <th></th>\n      <th>CAR/YEAR</th>\n      <th>2013</th>\n      <th>2014</th>\n      <th>2015</th>\n      <th>2016</th>\n      <th>2017</th>\n      <th>Results</th>\n    </tr>\n  </thead>\n  <tbody>\n    <tr>\n      <th>0</th>\n      <td>A</td>\n      <td>35</td>\n      <td>40</td>\n      <td>48</td>\n      <td>50</td>\n      <td>36</td>\n      <td>159</td>\n    </tr>\n    <tr>\n      <th>1</th>\n      <td>B</td>\n      <td>39</td>\n      <td>45</td>\n      <td>54</td>\n      <td>60</td>\n      <td>72</td>\n      <td>210</td>\n    </tr>\n  </tbody>\n</table>\n</div>"
          },
          "metadata": {}
        }
      ],
      "id": "5006c64f-7830-41d2-9335-9e363e363681"
    },
    {
      "cell_type": "code",
      "source": "df.loc[[0,1],'2017']",
      "metadata": {
        "trusted": true
      },
      "execution_count": 17,
      "outputs": [
        {
          "execution_count": 17,
          "output_type": "execute_result",
          "data": {
            "text/plain": "0    36\n1    72\nName: 2017, dtype: int64"
          },
          "metadata": {}
        }
      ],
      "id": "2b0e56bf-f82c-46e5-a60c-603cb3c878aa"
    },
    {
      "cell_type": "code",
      "source": "df.loc[[0,1],['2016','2017']]",
      "metadata": {
        "trusted": true
      },
      "execution_count": 18,
      "outputs": [
        {
          "execution_count": 18,
          "output_type": "execute_result",
          "data": {
            "text/plain": "   2016  2017\n0    50    36\n1    60    72",
            "text/html": "<div>\n<style scoped>\n    .dataframe tbody tr th:only-of-type {\n        vertical-align: middle;\n    }\n\n    .dataframe tbody tr th {\n        vertical-align: top;\n    }\n\n    .dataframe thead th {\n        text-align: right;\n    }\n</style>\n<table border=\"1\" class=\"dataframe\">\n  <thead>\n    <tr style=\"text-align: right;\">\n      <th></th>\n      <th>2016</th>\n      <th>2017</th>\n    </tr>\n  </thead>\n  <tbody>\n    <tr>\n      <th>0</th>\n      <td>50</td>\n      <td>36</td>\n    </tr>\n    <tr>\n      <th>1</th>\n      <td>60</td>\n      <td>72</td>\n    </tr>\n  </tbody>\n</table>\n</div>"
          },
          "metadata": {}
        }
      ],
      "id": "3a339226-2c7a-41c5-8314-921906f668b2"
    },
    {
      "cell_type": "code",
      "source": "df.head()",
      "metadata": {
        "trusted": true
      },
      "execution_count": 19,
      "outputs": [
        {
          "execution_count": 19,
          "output_type": "execute_result",
          "data": {
            "text/plain": "  CAR/YEAR  2013  2014  2015  2016  2017  Results\n0        A    35    40    48    50    36      159\n1        B    39    45    54    60    72      210\n2        C    52    25    32    54    45      154\n3        D    50    42    45    46    47      184\n4        E    36    46    42    48    55      179",
            "text/html": "<div>\n<style scoped>\n    .dataframe tbody tr th:only-of-type {\n        vertical-align: middle;\n    }\n\n    .dataframe tbody tr th {\n        vertical-align: top;\n    }\n\n    .dataframe thead th {\n        text-align: right;\n    }\n</style>\n<table border=\"1\" class=\"dataframe\">\n  <thead>\n    <tr style=\"text-align: right;\">\n      <th></th>\n      <th>CAR/YEAR</th>\n      <th>2013</th>\n      <th>2014</th>\n      <th>2015</th>\n      <th>2016</th>\n      <th>2017</th>\n      <th>Results</th>\n    </tr>\n  </thead>\n  <tbody>\n    <tr>\n      <th>0</th>\n      <td>A</td>\n      <td>35</td>\n      <td>40</td>\n      <td>48</td>\n      <td>50</td>\n      <td>36</td>\n      <td>159</td>\n    </tr>\n    <tr>\n      <th>1</th>\n      <td>B</td>\n      <td>39</td>\n      <td>45</td>\n      <td>54</td>\n      <td>60</td>\n      <td>72</td>\n      <td>210</td>\n    </tr>\n    <tr>\n      <th>2</th>\n      <td>C</td>\n      <td>52</td>\n      <td>25</td>\n      <td>32</td>\n      <td>54</td>\n      <td>45</td>\n      <td>154</td>\n    </tr>\n    <tr>\n      <th>3</th>\n      <td>D</td>\n      <td>50</td>\n      <td>42</td>\n      <td>45</td>\n      <td>46</td>\n      <td>47</td>\n      <td>184</td>\n    </tr>\n    <tr>\n      <th>4</th>\n      <td>E</td>\n      <td>36</td>\n      <td>46</td>\n      <td>42</td>\n      <td>48</td>\n      <td>55</td>\n      <td>179</td>\n    </tr>\n  </tbody>\n</table>\n</div>"
          },
          "metadata": {}
        }
      ],
      "id": "87fbc9ba-d00c-4479-8f1c-878ada030e08"
    },
    {
      "cell_type": "code",
      "source": "df.shape",
      "metadata": {
        "trusted": true
      },
      "execution_count": 20,
      "outputs": [
        {
          "execution_count": 20,
          "output_type": "execute_result",
          "data": {
            "text/plain": "(5, 7)"
          },
          "metadata": {}
        }
      ],
      "id": "2594dbe3-4ceb-440e-9150-7c9a140bf468"
    },
    {
      "cell_type": "code",
      "source": "df['2017']",
      "metadata": {
        "trusted": true
      },
      "execution_count": 21,
      "outputs": [
        {
          "execution_count": 21,
          "output_type": "execute_result",
          "data": {
            "text/plain": "0    36\n1    72\n2    45\n3    47\n4    55\nName: 2017, dtype: int64"
          },
          "metadata": {}
        }
      ],
      "id": "4f546fe1-cdc4-4c7a-8cff-844617583acb"
    },
    {
      "cell_type": "code",
      "source": "df.loc[0]",
      "metadata": {
        "trusted": true
      },
      "execution_count": 22,
      "outputs": [
        {
          "execution_count": 22,
          "output_type": "execute_result",
          "data": {
            "text/plain": "CAR/YEAR      A\n2013         35\n2014         40\n2015         48\n2016         50\n2017         36\nResults     159\nName: 0, dtype: object"
          },
          "metadata": {}
        }
      ],
      "id": "dcf6fef1-1585-41a4-b989-3f4b3ac7143a"
    },
    {
      "cell_type": "code",
      "source": "df.loc[0,'2017']",
      "metadata": {
        "trusted": true
      },
      "execution_count": 23,
      "outputs": [
        {
          "execution_count": 23,
          "output_type": "execute_result",
          "data": {
            "text/plain": "36"
          },
          "metadata": {}
        }
      ],
      "id": "878eeddb-0a19-43e2-9869-f1995b2b44cc"
    },
    {
      "cell_type": "code",
      "source": "df.loc[[0,1,2],'2017']",
      "metadata": {
        "trusted": true
      },
      "execution_count": 24,
      "outputs": [
        {
          "execution_count": 24,
          "output_type": "execute_result",
          "data": {
            "text/plain": "0    36\n1    72\n2    45\nName: 2017, dtype: int64"
          },
          "metadata": {}
        }
      ],
      "id": "b013186a-cbe1-48b8-a3e0-a5ddaa92ffa1"
    },
    {
      "cell_type": "code",
      "source": "df.loc[0:2,'2017']",
      "metadata": {
        "trusted": true
      },
      "execution_count": 25,
      "outputs": [
        {
          "execution_count": 25,
          "output_type": "execute_result",
          "data": {
            "text/plain": "0    36\n1    72\n2    45\nName: 2017, dtype: int64"
          },
          "metadata": {}
        }
      ],
      "id": "659aa0ef-af14-44a1-9b57-d7f38b6060b7"
    },
    {
      "cell_type": "code",
      "source": "df.loc[0:2,'2013':'2017']",
      "metadata": {
        "trusted": true
      },
      "execution_count": 32,
      "outputs": [
        {
          "execution_count": 32,
          "output_type": "execute_result",
          "data": {
            "text/plain": "   2013  2014  2015  2016  2017\n0    35    40    48    50    36\n1    39    45    54    60    72\n2    52    25    32    54    45",
            "text/html": "<div>\n<style scoped>\n    .dataframe tbody tr th:only-of-type {\n        vertical-align: middle;\n    }\n\n    .dataframe tbody tr th {\n        vertical-align: top;\n    }\n\n    .dataframe thead th {\n        text-align: right;\n    }\n</style>\n<table border=\"1\" class=\"dataframe\">\n  <thead>\n    <tr style=\"text-align: right;\">\n      <th></th>\n      <th>2013</th>\n      <th>2014</th>\n      <th>2015</th>\n      <th>2016</th>\n      <th>2017</th>\n    </tr>\n  </thead>\n  <tbody>\n    <tr>\n      <th>0</th>\n      <td>35</td>\n      <td>40</td>\n      <td>48</td>\n      <td>50</td>\n      <td>36</td>\n    </tr>\n    <tr>\n      <th>1</th>\n      <td>39</td>\n      <td>45</td>\n      <td>54</td>\n      <td>60</td>\n      <td>72</td>\n    </tr>\n    <tr>\n      <th>2</th>\n      <td>52</td>\n      <td>25</td>\n      <td>32</td>\n      <td>54</td>\n      <td>45</td>\n    </tr>\n  </tbody>\n</table>\n</div>"
          },
          "metadata": {}
        }
      ],
      "id": "21b4e7c7-7f68-4e2d-9b76-0d49479254c0"
    },
    {
      "cell_type": "code",
      "source": "df.set_index('CAR/YEAR')",
      "metadata": {
        "trusted": true
      },
      "execution_count": 30,
      "outputs": [
        {
          "execution_count": 30,
          "output_type": "execute_result",
          "data": {
            "text/plain": "          2013  2014  2015  2016  2017  Results\nCAR/YEAR                                       \nA           35    40    48    50    36      159\nB           39    45    54    60    72      210\nC           52    25    32    54    45      154\nD           50    42    45    46    47      184\nE           36    46    42    48    55      179",
            "text/html": "<div>\n<style scoped>\n    .dataframe tbody tr th:only-of-type {\n        vertical-align: middle;\n    }\n\n    .dataframe tbody tr th {\n        vertical-align: top;\n    }\n\n    .dataframe thead th {\n        text-align: right;\n    }\n</style>\n<table border=\"1\" class=\"dataframe\">\n  <thead>\n    <tr style=\"text-align: right;\">\n      <th></th>\n      <th>2013</th>\n      <th>2014</th>\n      <th>2015</th>\n      <th>2016</th>\n      <th>2017</th>\n      <th>Results</th>\n    </tr>\n    <tr>\n      <th>CAR/YEAR</th>\n      <th></th>\n      <th></th>\n      <th></th>\n      <th></th>\n      <th></th>\n      <th></th>\n    </tr>\n  </thead>\n  <tbody>\n    <tr>\n      <th>A</th>\n      <td>35</td>\n      <td>40</td>\n      <td>48</td>\n      <td>50</td>\n      <td>36</td>\n      <td>159</td>\n    </tr>\n    <tr>\n      <th>B</th>\n      <td>39</td>\n      <td>45</td>\n      <td>54</td>\n      <td>60</td>\n      <td>72</td>\n      <td>210</td>\n    </tr>\n    <tr>\n      <th>C</th>\n      <td>52</td>\n      <td>25</td>\n      <td>32</td>\n      <td>54</td>\n      <td>45</td>\n      <td>154</td>\n    </tr>\n    <tr>\n      <th>D</th>\n      <td>50</td>\n      <td>42</td>\n      <td>45</td>\n      <td>46</td>\n      <td>47</td>\n      <td>184</td>\n    </tr>\n    <tr>\n      <th>E</th>\n      <td>36</td>\n      <td>46</td>\n      <td>42</td>\n      <td>48</td>\n      <td>55</td>\n      <td>179</td>\n    </tr>\n  </tbody>\n</table>\n</div>"
          },
          "metadata": {}
        }
      ],
      "id": "eeac0a2e-4a06-4159-a558-5ffdc138c030"
    },
    {
      "cell_type": "code",
      "source": "df",
      "metadata": {
        "trusted": true
      },
      "execution_count": 31,
      "outputs": [
        {
          "execution_count": 31,
          "output_type": "execute_result",
          "data": {
            "text/plain": "  CAR/YEAR  2013  2014  2015  2016  2017  Results\n0        A    35    40    48    50    36      159\n1        B    39    45    54    60    72      210\n2        C    52    25    32    54    45      154\n3        D    50    42    45    46    47      184\n4        E    36    46    42    48    55      179",
            "text/html": "<div>\n<style scoped>\n    .dataframe tbody tr th:only-of-type {\n        vertical-align: middle;\n    }\n\n    .dataframe tbody tr th {\n        vertical-align: top;\n    }\n\n    .dataframe thead th {\n        text-align: right;\n    }\n</style>\n<table border=\"1\" class=\"dataframe\">\n  <thead>\n    <tr style=\"text-align: right;\">\n      <th></th>\n      <th>CAR/YEAR</th>\n      <th>2013</th>\n      <th>2014</th>\n      <th>2015</th>\n      <th>2016</th>\n      <th>2017</th>\n      <th>Results</th>\n    </tr>\n  </thead>\n  <tbody>\n    <tr>\n      <th>0</th>\n      <td>A</td>\n      <td>35</td>\n      <td>40</td>\n      <td>48</td>\n      <td>50</td>\n      <td>36</td>\n      <td>159</td>\n    </tr>\n    <tr>\n      <th>1</th>\n      <td>B</td>\n      <td>39</td>\n      <td>45</td>\n      <td>54</td>\n      <td>60</td>\n      <td>72</td>\n      <td>210</td>\n    </tr>\n    <tr>\n      <th>2</th>\n      <td>C</td>\n      <td>52</td>\n      <td>25</td>\n      <td>32</td>\n      <td>54</td>\n      <td>45</td>\n      <td>154</td>\n    </tr>\n    <tr>\n      <th>3</th>\n      <td>D</td>\n      <td>50</td>\n      <td>42</td>\n      <td>45</td>\n      <td>46</td>\n      <td>47</td>\n      <td>184</td>\n    </tr>\n    <tr>\n      <th>4</th>\n      <td>E</td>\n      <td>36</td>\n      <td>46</td>\n      <td>42</td>\n      <td>48</td>\n      <td>55</td>\n      <td>179</td>\n    </tr>\n  </tbody>\n</table>\n</div>"
          },
          "metadata": {}
        }
      ],
      "id": "5224ea06-56d5-4da4-9116-7f9f7bfe261b"
    },
    {
      "cell_type": "markdown",
      "source": "4. Print Dependences\nDependences are fundamental to record the Computational Environment.\n- Use watermark to print version of python,ipython and characteristics of the computer ",
      "metadata": {},
      "id": "e75095c8-b5c0-4c7d-84d8-04e65b4ecdf9"
    },
    {
      "cell_type": "code",
      "source": "%load_ext watermark\n# python,ipython,packages,and machine characteristics.\n# %watermark --iversion\n# %watermark\n\n%watermark -v -m -p pandas,numpy,watermark,piplite,jinja2\n\n# date \nprint (\" \")\n%water -u -n -t -z",
      "metadata": {
        "trusted": true
      },
      "execution_count": 47,
      "outputs": [
        {
          "name": "stdout",
          "text": "The watermark extension is already loaded. To reload it, use:\n  %reload_ext watermark\nPython implementation: CPython\nPython version       : 3.10.2\nIPython version      : 8.4.0\n\npandas   : 1.4.2\nnumpy    : 1.22.3\nwatermark: 2.3.1\npiplite  : 0.1.0b10\njinja2   : 3.1.1\n\nCompiler    : Clang 14.0.0 (https://github.com/llvm/llvm-project 78e87970af888bbbd5652c31f3a8\nOS          : Emscripten\nRelease     : 1.0\nMachine     : wasm32\nProcessor   : \nCPU cores   : 1\nArchitecture: 32bit\n\n \n",
          "output_type": "stream"
        },
        {
          "name": "stderr",
          "text": "UsageError: Line magic function `%water` not found.\n",
          "output_type": "stream"
        }
      ],
      "id": "cba1d33b-af2a-4802-812e-02ac049f3d48"
    },
    {
      "cell_type": "code",
      "source": "",
      "metadata": {},
      "execution_count": null,
      "outputs": [],
      "id": "6c9d4834-892d-486e-bbd4-21f771eaee0a"
    },
    {
      "cell_type": "code",
      "source": "",
      "metadata": {},
      "execution_count": null,
      "outputs": [],
      "id": "189bfc70-20c8-4361-8c7d-85187b5f5827"
    }
  ]
}